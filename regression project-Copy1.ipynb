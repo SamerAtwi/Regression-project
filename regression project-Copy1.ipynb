{
 "cells": [
  {
   "cell_type": "code",
   "execution_count": 83,
   "metadata": {},
   "outputs": [],
   "source": [
    "import pandas as pd\n",
    "import numpy as np\n",
    "import seaborn as sns\n",
    "\n",
    "\n",
    "import scipy.stats as stats\n",
    "import statsmodels.api as sm\n",
    "import statsmodels.formula.api as smf\n",
    "from sklearn import preprocessing\n",
    "from sklearn.linear_model import LinearRegression,Ridge\n",
    "from sklearn.model_selection import train_test_split, cross_val_score\n",
    "from sklearn.preprocessing import PolynomialFeatures,StandardScaler\n",
    "from sklearn.pipeline import make_pipeline\n",
    "\n",
    "import numpy as np\n",
    "import pickle\n",
    "import matplotlib.pyplot as plt\n",
    "%matplotlib inline\n",
    "import seaborn as sns\n",
    "sns.set()"
   ]
  },
  {
   "cell_type": "code",
   "execution_count": 14,
   "metadata": {},
   "outputs": [],
   "source": [
    "from bs4 import BeautifulSoup\n",
    "import requests"
   ]
  },
  {
   "cell_type": "code",
   "execution_count": 15,
   "metadata": {},
   "outputs": [
    {
     "name": "stdout",
     "output_type": "stream",
     "text": [
      "2\n",
      "3\n",
      "4\n",
      "5\n",
      "6\n",
      "7\n",
      "8\n",
      "9\n",
      "10\n",
      "11\n",
      "12\n",
      "13\n",
      "14\n",
      "15\n",
      "16\n",
      "17\n"
     ]
    }
   ],
   "source": [
    "i = 1\n",
    "headers = [\"Area\", \"Front\", \"Rooms\", \"Apartments\", \"Living Rooms\", \"Bathrooms\", \"Width Street\", \"Age\", \"Price\"]\n",
    "houses_list = []\n",
    "\n",
    "while len(houses_list) < 100:\n",
    "    url = f\"https://sa.aqar.fm/%D9%81%D9%84%D9%84-%D9%84%D9%84%D8%A8%D9%8A%D8%B9/%D8%A7%D9%84%D8%B1%D9%8A%D8%A7%D8%B6/{i}\"\n",
    "    response = requests.get(url)\n",
    "\n",
    "    if response.status_code == 200:\n",
    "        page = response.text\n",
    "        soup = BeautifulSoup(page, \"lxml\")\n",
    "        house_url = soup.find_all(\"a\", class_=\"listTitle\")\n",
    "        for house in house_url:\n",
    "            house_page = f\"https://sa.aqar.fm{house['href']}\"\n",
    "            response = requests.get(house_page)\n",
    "            page = response.text\n",
    "            soup = BeautifulSoup(page, \"lxml\")\n",
    "            # get the table and rows \n",
    "            table = soup.find(\"table\",class_=\"dc-detailsTable\")\n",
    "            rows = table.find_all(\"tr\") \n",
    "            if len(rows) >= 8:\n",
    "                area = int(rows[0].find_all(\"td\")[0].text.replace(\" م²\", \"\"))\n",
    "                front = rows[1].find_all(\"td\")[0].text.split()[0]\n",
    "                rooms = int(rows[2].find_all(\"td\")[0].text)\n",
    "                apt = int(rows[3].find_all(\"td\")[0].text)\n",
    "                living = int(rows[4].find_all(\"td\")[0].text)\n",
    "                baths = int(rows[5].find_all(\"td\")[0].text)\n",
    "                st = int(rows[6].find_all(\"td\")[0].text.replace(\" م\", \"\"))\n",
    "                age_row = rows[7].find_all(\"td\")[0].text\n",
    "                #if age_row == \"جديد\":\n",
    "                    #age = \"new\"\n",
    "                #else:\n",
    "                    #age = \"old\"\n",
    "                price = int(soup.find(\"span\", class_=\"listingPagePrice\").find_all(\"span\")[1].text.replace(\",\",\"\"))\n",
    "                house_dict = dict(zip(headers, [area, front, rooms, apt, living,baths,st,age, price]))\n",
    "                houses_list.append(house_dict)\n",
    "    else:\n",
    "        break\n",
    "        \n",
    "    i += 1\n",
    "    print(i)\n"
   ]
  },
  {
   "cell_type": "code",
   "execution_count": 16,
   "metadata": {},
   "outputs": [
    {
     "data": {
      "text/html": [
       "<div>\n",
       "<style scoped>\n",
       "    .dataframe tbody tr th:only-of-type {\n",
       "        vertical-align: middle;\n",
       "    }\n",
       "\n",
       "    .dataframe tbody tr th {\n",
       "        vertical-align: top;\n",
       "    }\n",
       "\n",
       "    .dataframe thead th {\n",
       "        text-align: right;\n",
       "    }\n",
       "</style>\n",
       "<table border=\"1\" class=\"dataframe\">\n",
       "  <thead>\n",
       "    <tr style=\"text-align: right;\">\n",
       "      <th></th>\n",
       "      <th>Area</th>\n",
       "      <th>Front</th>\n",
       "      <th>Rooms</th>\n",
       "      <th>Apartments</th>\n",
       "      <th>Living Rooms</th>\n",
       "      <th>Bathrooms</th>\n",
       "      <th>Width Street</th>\n",
       "      <th>Age</th>\n",
       "      <th>Price</th>\n",
       "    </tr>\n",
       "  </thead>\n",
       "  <tbody>\n",
       "    <tr>\n",
       "      <th>0</th>\n",
       "      <td>360</td>\n",
       "      <td>جنوب</td>\n",
       "      <td>5</td>\n",
       "      <td>4</td>\n",
       "      <td>3</td>\n",
       "      <td>5</td>\n",
       "      <td>15</td>\n",
       "      <td>new</td>\n",
       "      <td>2000000</td>\n",
       "    </tr>\n",
       "    <tr>\n",
       "      <th>1</th>\n",
       "      <td>355</td>\n",
       "      <td>جنوب</td>\n",
       "      <td>3</td>\n",
       "      <td>3</td>\n",
       "      <td>2</td>\n",
       "      <td>3</td>\n",
       "      <td>20</td>\n",
       "      <td>new</td>\n",
       "      <td>1900000</td>\n",
       "    </tr>\n",
       "    <tr>\n",
       "      <th>2</th>\n",
       "      <td>300</td>\n",
       "      <td>شمال</td>\n",
       "      <td>7</td>\n",
       "      <td>1</td>\n",
       "      <td>3</td>\n",
       "      <td>5</td>\n",
       "      <td>18</td>\n",
       "      <td>new</td>\n",
       "      <td>1350000</td>\n",
       "    </tr>\n",
       "    <tr>\n",
       "      <th>3</th>\n",
       "      <td>390</td>\n",
       "      <td>شمال</td>\n",
       "      <td>5</td>\n",
       "      <td>3</td>\n",
       "      <td>1</td>\n",
       "      <td>3</td>\n",
       "      <td>15</td>\n",
       "      <td>new</td>\n",
       "      <td>1750000</td>\n",
       "    </tr>\n",
       "    <tr>\n",
       "      <th>4</th>\n",
       "      <td>375</td>\n",
       "      <td>جنوب</td>\n",
       "      <td>6</td>\n",
       "      <td>2</td>\n",
       "      <td>2</td>\n",
       "      <td>5</td>\n",
       "      <td>20</td>\n",
       "      <td>new</td>\n",
       "      <td>3200000</td>\n",
       "    </tr>\n",
       "    <tr>\n",
       "      <th>...</th>\n",
       "      <td>...</td>\n",
       "      <td>...</td>\n",
       "      <td>...</td>\n",
       "      <td>...</td>\n",
       "      <td>...</td>\n",
       "      <td>...</td>\n",
       "      <td>...</td>\n",
       "      <td>...</td>\n",
       "      <td>...</td>\n",
       "    </tr>\n",
       "    <tr>\n",
       "      <th>98</th>\n",
       "      <td>360</td>\n",
       "      <td>جنوب</td>\n",
       "      <td>5</td>\n",
       "      <td>4</td>\n",
       "      <td>3</td>\n",
       "      <td>5</td>\n",
       "      <td>15</td>\n",
       "      <td>new</td>\n",
       "      <td>2000000</td>\n",
       "    </tr>\n",
       "    <tr>\n",
       "      <th>99</th>\n",
       "      <td>270</td>\n",
       "      <td>جنوب</td>\n",
       "      <td>5</td>\n",
       "      <td>1</td>\n",
       "      <td>2</td>\n",
       "      <td>5</td>\n",
       "      <td>15</td>\n",
       "      <td>new</td>\n",
       "      <td>1200000</td>\n",
       "    </tr>\n",
       "    <tr>\n",
       "      <th>100</th>\n",
       "      <td>300</td>\n",
       "      <td>غرب</td>\n",
       "      <td>5</td>\n",
       "      <td>2</td>\n",
       "      <td>4</td>\n",
       "      <td>5</td>\n",
       "      <td>15</td>\n",
       "      <td>new</td>\n",
       "      <td>1430000</td>\n",
       "    </tr>\n",
       "    <tr>\n",
       "      <th>101</th>\n",
       "      <td>450</td>\n",
       "      <td>شمال</td>\n",
       "      <td>5</td>\n",
       "      <td>5</td>\n",
       "      <td>2</td>\n",
       "      <td>5</td>\n",
       "      <td>20</td>\n",
       "      <td>new</td>\n",
       "      <td>2900000</td>\n",
       "    </tr>\n",
       "    <tr>\n",
       "      <th>102</th>\n",
       "      <td>375</td>\n",
       "      <td>شرق</td>\n",
       "      <td>5</td>\n",
       "      <td>2</td>\n",
       "      <td>2</td>\n",
       "      <td>5</td>\n",
       "      <td>20</td>\n",
       "      <td>new</td>\n",
       "      <td>1350000</td>\n",
       "    </tr>\n",
       "  </tbody>\n",
       "</table>\n",
       "<p>103 rows × 9 columns</p>\n",
       "</div>"
      ],
      "text/plain": [
       "     Area Front  Rooms  Apartments  Living Rooms  Bathrooms  Width Street  \\\n",
       "0     360  جنوب      5           4             3          5            15   \n",
       "1     355  جنوب      3           3             2          3            20   \n",
       "2     300  شمال      7           1             3          5            18   \n",
       "3     390  شمال      5           3             1          3            15   \n",
       "4     375  جنوب      6           2             2          5            20   \n",
       "..    ...   ...    ...         ...           ...        ...           ...   \n",
       "98    360  جنوب      5           4             3          5            15   \n",
       "99    270  جنوب      5           1             2          5            15   \n",
       "100   300   غرب      5           2             4          5            15   \n",
       "101   450  شمال      5           5             2          5            20   \n",
       "102   375   شرق      5           2             2          5            20   \n",
       "\n",
       "     Age    Price  \n",
       "0    new  2000000  \n",
       "1    new  1900000  \n",
       "2    new  1350000  \n",
       "3    new  1750000  \n",
       "4    new  3200000  \n",
       "..   ...      ...  \n",
       "98   new  2000000  \n",
       "99   new  1200000  \n",
       "100  new  1430000  \n",
       "101  new  2900000  \n",
       "102  new  1350000  \n",
       "\n",
       "[103 rows x 9 columns]"
      ]
     },
     "execution_count": 16,
     "metadata": {},
     "output_type": "execute_result"
    }
   ],
   "source": [
    "df123 = pd.DataFrame(houses_list)\n",
    "df123"
   ]
  },
  {
   "cell_type": "code",
   "execution_count": 17,
   "metadata": {},
   "outputs": [],
   "source": [
    "df = pd.DataFrame(houses_list)\n",
    "df.to_csv(\"Saleh123.csv\")"
   ]
  },
  {
   "cell_type": "code",
   "execution_count": 45,
   "metadata": {},
   "outputs": [],
   "source": [
    "df12= pd.read_csv('Saleh.csv')"
   ]
  },
  {
   "cell_type": "code",
   "execution_count": 46,
   "metadata": {},
   "outputs": [
    {
     "data": {
      "text/html": [
       "<div>\n",
       "<style scoped>\n",
       "    .dataframe tbody tr th:only-of-type {\n",
       "        vertical-align: middle;\n",
       "    }\n",
       "\n",
       "    .dataframe tbody tr th {\n",
       "        vertical-align: top;\n",
       "    }\n",
       "\n",
       "    .dataframe thead th {\n",
       "        text-align: right;\n",
       "    }\n",
       "</style>\n",
       "<table border=\"1\" class=\"dataframe\">\n",
       "  <thead>\n",
       "    <tr style=\"text-align: right;\">\n",
       "      <th></th>\n",
       "      <th>Unnamed: 0</th>\n",
       "      <th>area</th>\n",
       "      <th>front</th>\n",
       "      <th>rooms</th>\n",
       "      <th>apt</th>\n",
       "      <th>living</th>\n",
       "      <th>baths</th>\n",
       "      <th>st</th>\n",
       "      <th>age</th>\n",
       "      <th>price</th>\n",
       "    </tr>\n",
       "  </thead>\n",
       "  <tbody>\n",
       "    <tr>\n",
       "      <th>0</th>\n",
       "      <td>0</td>\n",
       "      <td>355</td>\n",
       "      <td>جنوب</td>\n",
       "      <td>3</td>\n",
       "      <td>3</td>\n",
       "      <td>2</td>\n",
       "      <td>3</td>\n",
       "      <td>20</td>\n",
       "      <td>new</td>\n",
       "      <td>1900000</td>\n",
       "    </tr>\n",
       "    <tr>\n",
       "      <th>1</th>\n",
       "      <td>1</td>\n",
       "      <td>312</td>\n",
       "      <td>شمال</td>\n",
       "      <td>4</td>\n",
       "      <td>1</td>\n",
       "      <td>2</td>\n",
       "      <td>4</td>\n",
       "      <td>15</td>\n",
       "      <td>new</td>\n",
       "      <td>2600000</td>\n",
       "    </tr>\n",
       "    <tr>\n",
       "      <th>2</th>\n",
       "      <td>2</td>\n",
       "      <td>420</td>\n",
       "      <td>غرب</td>\n",
       "      <td>7</td>\n",
       "      <td>2</td>\n",
       "      <td>5</td>\n",
       "      <td>5</td>\n",
       "      <td>15</td>\n",
       "      <td>new</td>\n",
       "      <td>3100000</td>\n",
       "    </tr>\n",
       "    <tr>\n",
       "      <th>3</th>\n",
       "      <td>3</td>\n",
       "      <td>343</td>\n",
       "      <td>شمال</td>\n",
       "      <td>3</td>\n",
       "      <td>2</td>\n",
       "      <td>1</td>\n",
       "      <td>3</td>\n",
       "      <td>20</td>\n",
       "      <td>new</td>\n",
       "      <td>2250000</td>\n",
       "    </tr>\n",
       "    <tr>\n",
       "      <th>4</th>\n",
       "      <td>4</td>\n",
       "      <td>500</td>\n",
       "      <td>شمال</td>\n",
       "      <td>7</td>\n",
       "      <td>1</td>\n",
       "      <td>3</td>\n",
       "      <td>5</td>\n",
       "      <td>15</td>\n",
       "      <td>new</td>\n",
       "      <td>2100000</td>\n",
       "    </tr>\n",
       "    <tr>\n",
       "      <th>...</th>\n",
       "      <td>...</td>\n",
       "      <td>...</td>\n",
       "      <td>...</td>\n",
       "      <td>...</td>\n",
       "      <td>...</td>\n",
       "      <td>...</td>\n",
       "      <td>...</td>\n",
       "      <td>...</td>\n",
       "      <td>...</td>\n",
       "      <td>...</td>\n",
       "    </tr>\n",
       "    <tr>\n",
       "      <th>94</th>\n",
       "      <td>94</td>\n",
       "      <td>440</td>\n",
       "      <td>شمال</td>\n",
       "      <td>5</td>\n",
       "      <td>2</td>\n",
       "      <td>3</td>\n",
       "      <td>5</td>\n",
       "      <td>16</td>\n",
       "      <td>new</td>\n",
       "      <td>1950000</td>\n",
       "    </tr>\n",
       "    <tr>\n",
       "      <th>95</th>\n",
       "      <td>95</td>\n",
       "      <td>530</td>\n",
       "      <td>جنوب</td>\n",
       "      <td>3</td>\n",
       "      <td>4</td>\n",
       "      <td>1</td>\n",
       "      <td>2</td>\n",
       "      <td>15</td>\n",
       "      <td>old</td>\n",
       "      <td>2000000</td>\n",
       "    </tr>\n",
       "    <tr>\n",
       "      <th>96</th>\n",
       "      <td>96</td>\n",
       "      <td>384</td>\n",
       "      <td>شمال</td>\n",
       "      <td>7</td>\n",
       "      <td>2</td>\n",
       "      <td>3</td>\n",
       "      <td>5</td>\n",
       "      <td>15</td>\n",
       "      <td>new</td>\n",
       "      <td>1750000</td>\n",
       "    </tr>\n",
       "    <tr>\n",
       "      <th>97</th>\n",
       "      <td>97</td>\n",
       "      <td>420</td>\n",
       "      <td>غرب</td>\n",
       "      <td>5</td>\n",
       "      <td>2</td>\n",
       "      <td>2</td>\n",
       "      <td>4</td>\n",
       "      <td>15</td>\n",
       "      <td>old</td>\n",
       "      <td>1800000</td>\n",
       "    </tr>\n",
       "    <tr>\n",
       "      <th>98</th>\n",
       "      <td>98</td>\n",
       "      <td>878</td>\n",
       "      <td>شمال</td>\n",
       "      <td>7</td>\n",
       "      <td>4</td>\n",
       "      <td>5</td>\n",
       "      <td>5</td>\n",
       "      <td>20</td>\n",
       "      <td>old</td>\n",
       "      <td>1400000</td>\n",
       "    </tr>\n",
       "  </tbody>\n",
       "</table>\n",
       "<p>99 rows × 10 columns</p>\n",
       "</div>"
      ],
      "text/plain": [
       "    Unnamed: 0  area front  rooms  apt  living  baths  st  age    price\n",
       "0            0   355  جنوب      3    3       2      3  20  new  1900000\n",
       "1            1   312  شمال      4    1       2      4  15  new  2600000\n",
       "2            2   420   غرب      7    2       5      5  15  new  3100000\n",
       "3            3   343  شمال      3    2       1      3  20  new  2250000\n",
       "4            4   500  شمال      7    1       3      5  15  new  2100000\n",
       "..         ...   ...   ...    ...  ...     ...    ...  ..  ...      ...\n",
       "94          94   440  شمال      5    2       3      5  16  new  1950000\n",
       "95          95   530  جنوب      3    4       1      2  15  old  2000000\n",
       "96          96   384  شمال      7    2       3      5  15  new  1750000\n",
       "97          97   420   غرب      5    2       2      4  15  old  1800000\n",
       "98          98   878  شمال      7    4       5      5  20  old  1400000\n",
       "\n",
       "[99 rows x 10 columns]"
      ]
     },
     "execution_count": 46,
     "metadata": {},
     "output_type": "execute_result"
    }
   ],
   "source": [
    "df12.head(99)"
   ]
  },
  {
   "cell_type": "code",
   "execution_count": 50,
   "metadata": {},
   "outputs": [],
   "source": [
    "#df12.drop(['Unnamed: 0'], axis = 1, inplace = True)\n",
    "#f12.drop(['baths'], axis = 1, inplace = True)\n",
    "#df12.drop(['apt'], axis = 1, inplace = True)\n",
    "df12.drop(['front'], axis = 1, inplace = True)\n",
    "df12.drop(['age'], axis = 1, inplace = True)\n",
    "\n",
    "\n"
   ]
  },
  {
   "cell_type": "code",
   "execution_count": 51,
   "metadata": {},
   "outputs": [
    {
     "data": {
      "text/html": [
       "<div>\n",
       "<style scoped>\n",
       "    .dataframe tbody tr th:only-of-type {\n",
       "        vertical-align: middle;\n",
       "    }\n",
       "\n",
       "    .dataframe tbody tr th {\n",
       "        vertical-align: top;\n",
       "    }\n",
       "\n",
       "    .dataframe thead th {\n",
       "        text-align: right;\n",
       "    }\n",
       "</style>\n",
       "<table border=\"1\" class=\"dataframe\">\n",
       "  <thead>\n",
       "    <tr style=\"text-align: right;\">\n",
       "      <th></th>\n",
       "      <th>area</th>\n",
       "      <th>rooms</th>\n",
       "      <th>living</th>\n",
       "      <th>st</th>\n",
       "      <th>price</th>\n",
       "    </tr>\n",
       "  </thead>\n",
       "  <tbody>\n",
       "    <tr>\n",
       "      <th>0</th>\n",
       "      <td>355</td>\n",
       "      <td>3</td>\n",
       "      <td>2</td>\n",
       "      <td>20</td>\n",
       "      <td>1900000</td>\n",
       "    </tr>\n",
       "    <tr>\n",
       "      <th>1</th>\n",
       "      <td>312</td>\n",
       "      <td>4</td>\n",
       "      <td>2</td>\n",
       "      <td>15</td>\n",
       "      <td>2600000</td>\n",
       "    </tr>\n",
       "    <tr>\n",
       "      <th>2</th>\n",
       "      <td>420</td>\n",
       "      <td>7</td>\n",
       "      <td>5</td>\n",
       "      <td>15</td>\n",
       "      <td>3100000</td>\n",
       "    </tr>\n",
       "    <tr>\n",
       "      <th>3</th>\n",
       "      <td>343</td>\n",
       "      <td>3</td>\n",
       "      <td>1</td>\n",
       "      <td>20</td>\n",
       "      <td>2250000</td>\n",
       "    </tr>\n",
       "    <tr>\n",
       "      <th>4</th>\n",
       "      <td>500</td>\n",
       "      <td>7</td>\n",
       "      <td>3</td>\n",
       "      <td>15</td>\n",
       "      <td>2100000</td>\n",
       "    </tr>\n",
       "  </tbody>\n",
       "</table>\n",
       "</div>"
      ],
      "text/plain": [
       "   area  rooms  living  st    price\n",
       "0   355      3       2  20  1900000\n",
       "1   312      4       2  15  2600000\n",
       "2   420      7       5  15  3100000\n",
       "3   343      3       1  20  2250000\n",
       "4   500      7       3  15  2100000"
      ]
     },
     "execution_count": 51,
     "metadata": {},
     "output_type": "execute_result"
    }
   ],
   "source": [
    "df12.head()"
   ]
  },
  {
   "cell_type": "code",
   "execution_count": 52,
   "metadata": {},
   "outputs": [
    {
     "data": {
      "image/png": "[encoded data removed]",
      "text/plain": [
       "<Figure size 864x432 with 2 Axes>"
      ]
     },
     "metadata": {},
     "output_type": "display_data"
    }
   ],
   "source": [
    "plt.figure(figsize=(12, 6))\n",
    "heatmap = sns.heatmap(df12.corr(), vmin=-1, vmax=1, annot=True,cmap='seismic')\n",
    "heatmap.set_title('Correlation Heatmap', fontdict={'fontsize':12}, pad=12);\n",
    "plt.show()"
   ]
  },
  {
   "cell_type": "code",
   "execution_count": 11,
   "metadata": {},
   "outputs": [],
   "source": [
    "df.drop(['Unnamed: 0'], axis = 1, inplace = True)\n",
    "df.drop(['Width Street'], axis = 1, inplace = True)\n",
    "df.drop(['Age'], axis = 1, inplace = True)\n",
    "df.drop(['Living Rooms'], axis = 1, inplace = True)\n",
    "df.drop(['Apartments'], axis = 1, inplace = True)\n",
    "df.drop(['Front'], axis = 1, inplace = True)"
   ]
  },
  {
   "cell_type": "code",
   "execution_count": 12,
   "metadata": {},
   "outputs": [
    {
     "data": {
      "text/html": [
       "<div>\n",
       "<style scoped>\n",
       "    .dataframe tbody tr th:only-of-type {\n",
       "        vertical-align: middle;\n",
       "    }\n",
       "\n",
       "    .dataframe tbody tr th {\n",
       "        vertical-align: top;\n",
       "    }\n",
       "\n",
       "    .dataframe thead th {\n",
       "        text-align: right;\n",
       "    }\n",
       "</style>\n",
       "<table border=\"1\" class=\"dataframe\">\n",
       "  <thead>\n",
       "    <tr style=\"text-align: right;\">\n",
       "      <th></th>\n",
       "      <th>Area</th>\n",
       "      <th>Rooms</th>\n",
       "      <th>Bathrooms</th>\n",
       "      <th>Price</th>\n",
       "    </tr>\n",
       "  </thead>\n",
       "  <tbody>\n",
       "    <tr>\n",
       "      <th>0</th>\n",
       "      <td>360</td>\n",
       "      <td>5</td>\n",
       "      <td>5</td>\n",
       "      <td>1200000</td>\n",
       "    </tr>\n",
       "    <tr>\n",
       "      <th>1</th>\n",
       "      <td>404</td>\n",
       "      <td>7</td>\n",
       "      <td>4</td>\n",
       "      <td>1200000</td>\n",
       "    </tr>\n",
       "    <tr>\n",
       "      <th>2</th>\n",
       "      <td>375</td>\n",
       "      <td>7</td>\n",
       "      <td>5</td>\n",
       "      <td>1900000</td>\n",
       "    </tr>\n",
       "    <tr>\n",
       "      <th>3</th>\n",
       "      <td>300</td>\n",
       "      <td>7</td>\n",
       "      <td>5</td>\n",
       "      <td>1350000</td>\n",
       "    </tr>\n",
       "    <tr>\n",
       "      <th>4</th>\n",
       "      <td>300</td>\n",
       "      <td>7</td>\n",
       "      <td>5</td>\n",
       "      <td>1300000</td>\n",
       "    </tr>\n",
       "  </tbody>\n",
       "</table>\n",
       "</div>"
      ],
      "text/plain": [
       "   Area  Rooms  Bathrooms    Price\n",
       "0   360      5          5  1200000\n",
       "1   404      7          4  1200000\n",
       "2   375      7          5  1900000\n",
       "3   300      7          5  1350000\n",
       "4   300      7          5  1300000"
      ]
     },
     "execution_count": 12,
     "metadata": {},
     "output_type": "execute_result"
    }
   ],
   "source": [
    "df.head()"
   ]
  },
  {
   "cell_type": "code",
   "execution_count": 55,
   "metadata": {},
   "outputs": [],
   "source": [
    "X,y = df12.iloc[:,0:4],df12['price']"
   ]
  },
  {
   "cell_type": "code",
   "execution_count": 56,
   "metadata": {},
   "outputs": [
    {
     "name": "stdout",
     "output_type": "stream",
     "text": [
      "<class 'pandas.core.frame.DataFrame'>\n",
      "RangeIndex: 447 entries, 0 to 446\n",
      "Data columns (total 4 columns):\n",
      " #   Column  Non-Null Count  Dtype\n",
      "---  ------  --------------  -----\n",
      " 0   area    447 non-null    int64\n",
      " 1   rooms   447 non-null    int64\n",
      " 2   living  447 non-null    int64\n",
      " 3   st      447 non-null    int64\n",
      "dtypes: int64(4)\n",
      "memory usage: 14.1 KB\n"
     ]
    }
   ],
   "source": [
    "X.info()"
   ]
  },
  {
   "cell_type": "code",
   "execution_count": 57,
   "metadata": {},
   "outputs": [
    {
     "data": {
      "text/plain": [
       "0      1900000\n",
       "1      2600000\n",
       "2      3100000\n",
       "3      2250000\n",
       "4      2100000\n",
       "        ...   \n",
       "442    2000000\n",
       "443    1550000\n",
       "444    1300000\n",
       "445    2200000\n",
       "446    3200000\n",
       "Name: price, Length: 447, dtype: int64"
      ]
     },
     "execution_count": 57,
     "metadata": {},
     "output_type": "execute_result"
    }
   ],
   "source": [
    "y"
   ]
  },
  {
   "cell_type": "code",
   "execution_count": 58,
   "metadata": {},
   "outputs": [],
   "source": [
    "model = LinearRegression()\n",
    "mo"
   ]
  },
  {
   "cell_type": "code",
   "execution_count": 66,
   "metadata": {},
   "outputs": [],
   "source": [
    "z=model.predict(X_test)"
   ]
  },
  {
   "cell_type": "code",
   "execution_count": 67,
   "metadata": {},
   "outputs": [
    {
     "data": {
      "text/plain": [
       "array([2649596.27349157, 1719028.04634938, 5892665.03466598,\n",
       "       1481450.53302216, 1283927.04776414, 1391669.46585025,\n",
       "       1239079.12994581, 1426380.57232094, 2297656.84839396,\n",
       "        875317.01912609,  834967.92400089, 1908399.6881103 ,\n",
       "       1991433.01767356, 1360668.89769535, 1813941.08271553,\n",
       "       2411083.99713181, 1878426.6568607 , 1574862.24989728,\n",
       "       2426269.57276276, 1111764.43902273, 4037817.95026805,\n",
       "       1766711.78001814, 1719028.04634938, 1853166.63388558,\n",
       "       2225903.72217887, 2488270.70907256, 1300073.07382674,\n",
       "       2676978.5807724 , 3133235.88016553, 3432393.74187755,\n",
       "       1028914.5474594 , 1782649.17711275, 1735711.21186324,\n",
       "       2076109.00960307, 1719028.04634938, 1809780.33946752,\n",
       "       1422670.03400515, 1094181.36007545, 2632631.8359227 ,\n",
       "       1476620.67679038, 1433025.75340432, 1760910.69784014,\n",
       "       1693828.56037249, 1509926.47081988, 1391669.46585025,\n",
       "       1943693.46947675, 1277122.99919641,  935912.8429947 ,\n",
       "       2099596.22368467, 2014210.92624958, 2283064.22674231,\n",
       "       1102012.44911745, 2288645.90443774, 1049559.39621513,\n",
       "       1151965.44217816, 1303385.49213022, 1158212.50324924,\n",
       "       2007999.83166115,  819133.08343156,  973399.72474864,\n",
       "       1300073.07382674, 1539055.89959514, 1724829.12852739,\n",
       "       2750020.66790241, 1908890.08556433, 1269072.50567184,\n",
       "       1858308.17204166,  946109.69490953, 1899051.16114   ,\n",
       "        935912.8429947 , 1719028.04634938, 5170010.86178012,\n",
       "       2460980.67923345, 1289717.35442756, 2076032.85059861,\n",
       "       1137408.78700917, 1623573.02404031, 1429626.4005818 ,\n",
       "       1271321.9170184 , 1654036.45274394, 2241181.57525155,\n",
       "       1164483.63840486, 1922614.53422606, 1362074.21013654,\n",
       "       1319598.60466647, 6743662.34512105, 2048922.03272027,\n",
       "       2349281.92082816, 2305487.93743595, 1897825.06065958])"
      ]
     },
     "execution_count": 67,
     "metadata": {},
     "output_type": "execute_result"
    }
   ],
   "source": [
    "z"
   ]
  },
  {
   "cell_type": "code",
   "execution_count": 71,
   "metadata": {},
   "outputs": [
    {
     "data": {
      "text/plain": [
       "90"
      ]
     },
     "execution_count": 71,
     "metadata": {},
     "output_type": "execute_result"
    }
   ],
   "source": [
    "len(z)"
   ]
  },
  {
   "cell_type": "code",
   "execution_count": 78,
   "metadata": {},
   "outputs": [],
   "source": [
    "def split_and_validate(X, y):\n",
    "    '''\n",
    "    For a set of features and target X, y, perform a 80/20 train/val split, \n",
    "    fit and validate a linear regression model, and report results\n",
    "    '''\n",
    "\n",
    "     # perform train/val split\n",
    "    X_train, X_test, y_train, y_test = train_test_split(X, y, test_size=0.20, random_state=24) # \"= \\ to coinsder this line with the above one\"\n",
    "    \n",
    "    # fit linear regression to training data\n",
    "    lr_model = LinearRegression() \n",
    "    lr_model.fit(X_train, y_train)\n",
    "    model=lr_model\n",
    "    \n",
    "    # fit Ridge regression \n",
    "    scaler = StandardScaler()\n",
    "    X_scaled = scaler.fit_transform(X)\n",
    "    X_test_scaled = scaler.transform(X_test)\n",
    "\n",
    "    lm_reg = Ridge(alpha=2)\n",
    "    lm_reg.fit(X_scaled,y)\n",
    "\n",
    "\n",
    "    \n",
    "    # score fit model on validation data\n",
    "    val_score_linear = cross_val_score(lr_model, X, y, cv = 5).mean()\n",
    "    val_score_rid = cross_val_score(lm_reg, X, y, cv = 5).mean()\n",
    "    \n",
    "    # report results\n",
    "\n",
    "    print(f'Linear Regression test R^2: {lr_model.score(X_test, y_test):.3f}')\n",
    "    print('\\nCross Validation for Linear model score was:', val_score_linear)\n",
    "#     X_poly_test = poly_reg.fit_transform(X_test)\n",
    "    print(f'\\nRidge Regression test R^2: {lm_reg.score(X_test_scaled, y_test):.3f}')\n",
    "#     print(X_poly_test)\n",
    "    print('\\nCross Validation for Ridge model was score was:', val_score_rid)\n",
    "#     print('Feature coefficient results: \\n')\n",
    "#     for feature, coef in zip(X.columns, lr_model.coef_):\n",
    "#         print(feature, ':', f'{coef:.2f}') # \"means"
   ]
  },
  {
   "cell_type": "code",
   "execution_count": 60,
   "metadata": {},
   "outputs": [],
   "source": [
    "X_train, X_test, y_train, y_test = \\\n",
    "train_test_split(X, y, test_size=0.20, random_state=24)"
   ]
  },
  {
   "cell_type": "code",
   "execution_count": 61,
   "metadata": {},
   "outputs": [],
   "source": [
    "lr_model = LinearRegression() \n",
    "lr_model.fit(X_train, y_train)\n",
    "model=lr_model"
   ]
  },
  {
   "cell_type": "code",
   "execution_count": 63,
   "metadata": {
    "scrolled": true
   },
   "outputs": [
    {
     "data": {
      "text/plain": [
       "<seaborn.axisgrid.PairGrid at 0x29f53f94370>"
      ]
     },
     "execution_count": 63,
     "metadata": {},
     "output_type": "execute_result"
    },
    {
     "data": {
      "image/png": "[encoded data removed]",
      "text/plain": [
       "<Figure size 900x900 with 30 Axes>"
      ]
     },
     "metadata": {},
     "output_type": "display_data"
    }
   ],
   "source": [
    "sns.pairplot(df12)"
   ]
  },
  {
   "cell_type": "code",
   "execution_count": 50,
   "metadata": {
    "scrolled": true
   },
   "outputs": [
    {
     "data": {
      "text/plain": [
       "array([  1871.91101099, -34650.99228517, 177044.85273183])"
      ]
     },
     "execution_count": 50,
     "metadata": {},
     "output_type": "execute_result"
    }
   ],
   "source": [
    "model.coef_"
   ]
  },
  {
   "cell_type": "code",
   "execution_count": 76,
   "metadata": {},
   "outputs": [
    {
     "name": "stdout",
     "output_type": "stream",
     "text": [
      "Linear Regression test R^2: 0.187\n",
      "\n",
      "Cross Validation for Linear model score was: 0.20311700357923962\n",
      "\n",
      "Ridge Regression test R^2: 0.232\n",
      "\n",
      "Cross Validation for Ridge model was score was: 0.20315856037649835\n"
     ]
    }
   ],
   "source": [
    "split_and_validate(X,y)"
   ]
  },
  {
   "cell_type": "code",
   "execution_count": 69,
   "metadata": {},
   "outputs": [],
   "source": [
    "from sklearn.metrics import mean_squared_error, mean_absolute_error,r2_score"
   ]
  },
  {
   "cell_type": "code",
   "execution_count": 72,
   "metadata": {},
   "outputs": [],
   "source": [
    "mse1 = mean_squared_error(y_test, z, squared=True)\n",
    "rmse1 = mean_squared_error(y_test, z, squared=False)\n",
    "mae1 = mean_absolute_error(y_test, z)\n",
    "r2_score3 = r2_score(y_test,z)"
   ]
  },
  {
   "cell_type": "code",
   "execution_count": 73,
   "metadata": {},
   "outputs": [
    {
     "name": "stdout",
     "output_type": "stream",
     "text": [
      "Mean Square Error =  842514029223.134\n",
      "Root Mean Square Error = 917885.6297072822\n",
      "Mean Absoluter Error= 573718.895073008\n",
      "r2= 0.18749943084446363\n"
     ]
    }
   ],
   "source": [
    "print('Mean Square Error = ', mse1)\n",
    "print ('Root Mean Square Error =', rmse1)\n",
    "print ('Mean Absoluter Error=', mae1)\n",
    "print ('r2=', r2_score3)"
   ]
  },
  {
   "cell_type": "code",
   "execution_count": 81,
   "metadata": {},
   "outputs": [
    {
     "ename": "NameError",
     "evalue": "name 'X_test_scaled' is not defined",
     "output_type": "error",
     "traceback": [
      "\u001b[1;31m---------------------------------------------------------------------------\u001b[0m",
      "\u001b[1;31mNameError\u001b[0m                                 Traceback (most recent call last)",
      "\u001b[1;32m<ipython-input-81-211b06aafcf7>\u001b[0m in \u001b[0;36m<module>\u001b[1;34m\u001b[0m\n\u001b[1;32m----> 1\u001b[1;33m \u001b[0mX_test_scaled\u001b[0m\u001b[1;33m\u001b[0m\u001b[1;33m\u001b[0m\u001b[0m\n\u001b[0m",
      "\u001b[1;31mNameError\u001b[0m: name 'X_test_scaled' is not defined"
     ]
    }
   ],
   "source": [
    "X_test_scaled"
   ]
  },
  {
   "cell_type": "code",
   "execution_count": 85,
   "metadata": {},
   "outputs": [],
   "source": [
    "scaler = StandardScaler()\n",
    "X_scaled = scaler.fit_transform(X)\n",
    "X_test_scaled = scaler.transform(X_test)"
   ]
  },
  {
   "cell_type": "code",
   "execution_count": 86,
   "metadata": {},
   "outputs": [
    {
     "data": {
      "text/plain": [
       "array([[ 0.34250326,  0.81316825,  2.33770743, -0.68910687],\n",
       "       [-0.20008633, -1.6263365 , -0.38826271,  0.41573807],\n",
       "       [ 2.33025937,  0.        ,  1.42905072,  7.04480771],\n",
       "       [-0.33051652, -0.81316825, -0.38826271, -0.68910687],\n",
       "       [-0.7270243 ,  1.6263365 ,  0.520394  ,  1.52058301],\n",
       "       [-0.48703275,  0.        , -0.38826271,  0.41573807],\n",
       "       [-0.54963924, -0.81316825, -0.38826271, -0.0261999 ],\n",
       "       [-0.48703275,  1.6263365 ,  0.520394  , -0.68910687],\n",
       "       [ 0.29554839,  0.        , -1.29691943, -0.68910687],\n",
       "       [-0.80006521,  0.        , -0.38826271, -0.68910687],\n",
       "       [-0.80006521, -0.81316825, -1.29691943, -0.0261999 ],\n",
       "       [-0.17400029,  0.        ,  1.42905072, -0.0261999 ],\n",
       "       [ 0.22772469, -0.81316825, -1.29691943, -2.89879674],\n",
       "       [-0.48703275, -0.81316825, -0.38826271,  0.41573807],\n",
       "       [-0.12182822,  0.        , -0.38826271, -0.46813788],\n",
       "       [ 0.26424515,  0.        , -0.38826271,  0.41573807],\n",
       "       [-0.17400029,  1.6263365 , -0.38826271,  0.41573807],\n",
       "       [-0.48703275,  0.        , -0.38826271,  2.62542795],\n",
       "       [ 0.29554839,  0.        ,  0.520394  , -0.68910687],\n",
       "       [-0.48703275, -3.252673  , -1.29691943, -0.68910687],\n",
       "       [ 1.391162  , -0.81316825,  1.42905072,  0.41573807],\n",
       "       [-0.09574218,  0.        , -1.29691943, -0.68910687],\n",
       "       [-0.20008633, -1.6263365 , -0.38826271,  0.41573807],\n",
       "       [-0.35660256,  0.        ,  2.33770743,  1.52058301],\n",
       "       [ 0.03468801,  1.6263365 ,  0.520394  ,  0.41573807],\n",
       "       [ 0.29554839,  1.6263365 ,  0.520394  , -0.68910687],\n",
       "       [-0.48703275,  0.        , -0.38826271, -0.68910687],\n",
       "       [ 0.41554417, -0.81316825, -0.38826271,  1.52058301],\n",
       "       [ 0.60858085,  1.6263365 ,  2.33770743,  0.41573807],\n",
       "       [ 1.17203928,  0.        ,  0.520394  , -2.89879674],\n",
       "       [-0.80006521,  1.6263365 , -0.38826271,  0.41573807],\n",
       "       [-0.22617237,  0.        ,  1.42905072, -0.68910687],\n",
       "       [-0.09574218, -0.81316825, -1.29691943, -0.68910687],\n",
       "       [ 0.10772892, -0.81316825, -0.38826271, -0.68910687],\n",
       "       [-0.20008633, -1.6263365 , -0.38826271,  0.41573807],\n",
       "       [-0.1113938 ,  0.        , -0.38826271, -0.68910687],\n",
       "       [-0.48703275,  0.81316825, -0.38826271,  0.41573807],\n",
       "       [-0.59137691,  0.        , -1.29691943, -0.68910687],\n",
       "       [ 0.45206462,  0.81316825, -1.29691943,  0.41573807],\n",
       "       [-0.42442626,  0.        , -0.38826271,  0.41573807],\n",
       "       [-0.54963924,  1.6263365 ,  0.520394  ,  0.41573807],\n",
       "       [-0.12182822, -1.6263365 , -1.29691943,  0.41573807],\n",
       "       [-0.17400029, -0.81316825, -0.38826271, -0.68910687],\n",
       "       [-0.42442626, -0.81316825,  0.520394  ,  0.41573807],\n",
       "       [-0.48703275,  0.        , -0.38826271,  0.41573807],\n",
       "       [ 0.03468801,  0.        , -1.29691943, -0.68910687],\n",
       "       [-0.54963924,  1.6263365 , -0.38826271, -0.68910687],\n",
       "       [-0.80006521, -0.81316825, -0.38826271,  0.41573807],\n",
       "       [ 0.03468801,  0.        , -0.38826271,  0.41573807],\n",
       "       [-0.09574218,  0.        , -0.38826271,  1.52058301],\n",
       "       [ 0.21729028,  0.        , -1.29691943,  0.41573807],\n",
       "       [-0.74789313,  0.        ,  0.520394  ,  0.41573807],\n",
       "       [ 0.14946658, -0.81316825,  0.520394  ,  0.41573807],\n",
       "       [-0.73745872,  1.6263365 , -1.29691943,  0.41573807],\n",
       "       [-0.64876619,  1.6263365 ,  0.520394  , -1.35201383],\n",
       "       [-0.54963924, -0.81316825,  0.520394  , -0.0261999 ],\n",
       "       [-0.77397917,  0.        ,  0.520394  ,  1.52058301],\n",
       "       [ 0.03468801,  0.        , -0.38826271, -0.68910687],\n",
       "       [-0.85223729, -0.81316825, -1.29691943,  0.63670706],\n",
       "       [-0.74789313,  0.        , -1.29691943,  0.41573807],\n",
       "       [-0.48703275,  0.        , -0.38826271, -0.68910687],\n",
       "       [-0.35660256,  1.6263365 , -0.38826271, -0.68910687],\n",
       "       [-0.17400029,  0.        , -0.38826271, -0.68910687],\n",
       "       [ 0.37902372,  0.        , -0.38826271,  2.62542795],\n",
       "       [-0.0383529 ,  0.        , -0.38826271, -0.68910687],\n",
       "       [-0.48703275, -0.81316825, -0.38826271, -0.68910687],\n",
       "       [-0.09574218,  0.        , -1.29691943,  0.41573807],\n",
       "       [-0.74789313,  0.        , -0.38826271, -0.68910687],\n",
       "       [-0.17400029,  0.        ,  0.520394  ,  0.63670706],\n",
       "       [-0.80006521, -0.81316825, -0.38826271,  0.41573807],\n",
       "       [-0.20008633, -1.6263365 , -0.38826271,  0.41573807],\n",
       "       [ 2.06939899,  1.6263365 ,  0.520394  ,  2.62542795],\n",
       "       [ 0.29554839,  1.6263365 ,  1.42905072, -1.7939518 ],\n",
       "       [-0.42442626, -0.81316825, -1.29691943, -0.68910687],\n",
       "       [-0.0435701 ,  0.        ,  0.520394  ,  0.63670706],\n",
       "       [-0.7218071 ,  0.        ,  0.520394  ,  0.41573807],\n",
       "       [-0.36181977,  1.6263365 , -0.38826271,  0.41573807],\n",
       "       [-0.36181977, -0.81316825, -1.29691943, -0.0261999 ],\n",
       "       [-0.57572528,  0.        , -0.38826271,  0.41573807],\n",
       "       [-0.22617237,  0.        , -0.38826271, -0.68910687],\n",
       "       [ 0.13903216,  0.        , -0.38826271,  0.41573807],\n",
       "       [-0.67485223,  0.        ,  0.520394  , -0.0261999 ],\n",
       "       [-0.09574218,  0.        , -0.38826271,  0.41573807],\n",
       "       [-0.48703275,  1.6263365 , -0.38826271, -0.68910687],\n",
       "       [-0.518336  ,  1.6263365 , -0.38826271, -0.68910687],\n",
       "       [ 3.26935675,  1.6263365 ,  2.33770743,  0.41573807],\n",
       "       [-0.09574218,  1.6263365 ,  0.520394  ,  0.41573807],\n",
       "       [ 0.29554839, -0.81316825, -0.38826271, -0.46813788],\n",
       "       [ 0.13903216,  0.        ,  0.520394  ,  0.41573807],\n",
       "       [-0.22617237, -0.81316825, -0.38826271,  2.62542795]])"
      ]
     },
     "execution_count": 86,
     "metadata": {},
     "output_type": "execute_result"
    }
   ],
   "source": [
    "X_test_scaled"
   ]
  },
  {
   "cell_type": "code",
   "execution_count": null,
   "metadata": {},
   "outputs": [],
   "source": []
  }
 ],
 "metadata": {
  "kernelspec": {
   "display_name": "Python 3",
   "language": "python",
   "name": "python3"
  },
  "language_info": {
   "codemirror_mode": {
    "name": "ipython",
    "version": 3
   },
   "file_extension": ".py",
   "mimetype": "text/x-python",
   "name": "python",
   "nbconvert_exporter": "python",
   "pygments_lexer": "ipython3",
   "version": "3.8.5"
  }
 },
 "nbformat": 4,
 "nbformat_minor": 4
}
